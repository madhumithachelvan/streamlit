{
 "cells": [
  {
   "cell_type": "code",
   "execution_count": 2,
   "id": "8516db75",
   "metadata": {},
   "outputs": [],
   "source": [
    "import pandas as pd"
   ]
  },
  {
   "cell_type": "code",
   "execution_count": 8,
   "id": "5b3ed22c",
   "metadata": {},
   "outputs": [],
   "source": [
    "pro_ids = ['68478bceda532e24d18a322b','67297f70d21c6b7122a7b4d8','5c43517c8fefb60001c447fe','6841eaf1a77941aa86041c54','6844ec5c3f032b8836dc5afb','684a3771c56bb750e8fe13d8','67ace9b8a3dada8f64274fd7','67ad8db455c99b14bcca9a26','5f46cd85e858dd0a24269315','5d2df867d7cc160019673031','682e1dfae06b67a1f4ce070e','65d58a52bf45343f7055b0e3','67e7b44b708fcee3c458d4cf','683f4c4a95e6ac73e9eff935','6733e5e2a104a80184bf6358','6548f960db60a00d76e92695','66e367ac9940dc1f0027eff1','6840e0c53c5973f71512e724','68406af7706e13b75e68962e','6554ea27378d1f1b846788b3','6843d1689d61b53eeae097b1','683ca599021675cdcae2a561','682e2a3e8a44f3f4e2aac127','68325a01e0770b3870ea26b3','614ebfa6eff131515482a146','67042439a81ac83981a36a73','67799d763d5bf5489ac2b034','67871b7310fcb596ca70075d','655fd05c12d38751dfa91559','683b76dbdec83b1c5a663d27']"
   ]
  },
  {
   "cell_type": "code",
   "execution_count": 12,
   "id": "6968402b",
   "metadata": {},
   "outputs": [],
   "source": [
    "round = 9\n",
    "annot_list = []\n",
    "for idx, id in enumerate(pro_ids):\n",
    "    if idx > 0 and idx % 6 == 0:\n",
    "        round += 1\n",
    "    annot = [id, round]\n",
    "    annot_list.append(annot)\n",
    "\n",
    "df = pd.DataFrame(annot_list,columns=['id','round'])"
   ]
  },
  {
   "cell_type": "code",
   "execution_count": 13,
   "id": "d45b3cf5",
   "metadata": {},
   "outputs": [
    {
     "data": {
      "text/html": [
       "<div>\n",
       "<style scoped>\n",
       "    .dataframe tbody tr th:only-of-type {\n",
       "        vertical-align: middle;\n",
       "    }\n",
       "\n",
       "    .dataframe tbody tr th {\n",
       "        vertical-align: top;\n",
       "    }\n",
       "\n",
       "    .dataframe thead th {\n",
       "        text-align: right;\n",
       "    }\n",
       "</style>\n",
       "<table border=\"1\" class=\"dataframe\">\n",
       "  <thead>\n",
       "    <tr style=\"text-align: right;\">\n",
       "      <th></th>\n",
       "      <th>id</th>\n",
       "      <th>round</th>\n",
       "    </tr>\n",
       "  </thead>\n",
       "  <tbody>\n",
       "    <tr>\n",
       "      <th>0</th>\n",
       "      <td>68478bceda532e24d18a322b</td>\n",
       "      <td>9</td>\n",
       "    </tr>\n",
       "    <tr>\n",
       "      <th>1</th>\n",
       "      <td>67297f70d21c6b7122a7b4d8</td>\n",
       "      <td>9</td>\n",
       "    </tr>\n",
       "    <tr>\n",
       "      <th>2</th>\n",
       "      <td>5c43517c8fefb60001c447fe</td>\n",
       "      <td>9</td>\n",
       "    </tr>\n",
       "    <tr>\n",
       "      <th>3</th>\n",
       "      <td>6841eaf1a77941aa86041c54</td>\n",
       "      <td>9</td>\n",
       "    </tr>\n",
       "    <tr>\n",
       "      <th>4</th>\n",
       "      <td>6844ec5c3f032b8836dc5afb</td>\n",
       "      <td>9</td>\n",
       "    </tr>\n",
       "    <tr>\n",
       "      <th>5</th>\n",
       "      <td>684a3771c56bb750e8fe13d8</td>\n",
       "      <td>9</td>\n",
       "    </tr>\n",
       "    <tr>\n",
       "      <th>6</th>\n",
       "      <td>67ace9b8a3dada8f64274fd7</td>\n",
       "      <td>10</td>\n",
       "    </tr>\n",
       "    <tr>\n",
       "      <th>7</th>\n",
       "      <td>67ad8db455c99b14bcca9a26</td>\n",
       "      <td>10</td>\n",
       "    </tr>\n",
       "    <tr>\n",
       "      <th>8</th>\n",
       "      <td>5f46cd85e858dd0a24269315</td>\n",
       "      <td>10</td>\n",
       "    </tr>\n",
       "    <tr>\n",
       "      <th>9</th>\n",
       "      <td>5d2df867d7cc160019673031</td>\n",
       "      <td>10</td>\n",
       "    </tr>\n",
       "    <tr>\n",
       "      <th>10</th>\n",
       "      <td>682e1dfae06b67a1f4ce070e</td>\n",
       "      <td>10</td>\n",
       "    </tr>\n",
       "    <tr>\n",
       "      <th>11</th>\n",
       "      <td>65d58a52bf45343f7055b0e3</td>\n",
       "      <td>10</td>\n",
       "    </tr>\n",
       "    <tr>\n",
       "      <th>12</th>\n",
       "      <td>67e7b44b708fcee3c458d4cf</td>\n",
       "      <td>11</td>\n",
       "    </tr>\n",
       "    <tr>\n",
       "      <th>13</th>\n",
       "      <td>683f4c4a95e6ac73e9eff935</td>\n",
       "      <td>11</td>\n",
       "    </tr>\n",
       "    <tr>\n",
       "      <th>14</th>\n",
       "      <td>6733e5e2a104a80184bf6358</td>\n",
       "      <td>11</td>\n",
       "    </tr>\n",
       "    <tr>\n",
       "      <th>15</th>\n",
       "      <td>6548f960db60a00d76e92695</td>\n",
       "      <td>11</td>\n",
       "    </tr>\n",
       "    <tr>\n",
       "      <th>16</th>\n",
       "      <td>66e367ac9940dc1f0027eff1</td>\n",
       "      <td>11</td>\n",
       "    </tr>\n",
       "    <tr>\n",
       "      <th>17</th>\n",
       "      <td>6840e0c53c5973f71512e724</td>\n",
       "      <td>11</td>\n",
       "    </tr>\n",
       "    <tr>\n",
       "      <th>18</th>\n",
       "      <td>68406af7706e13b75e68962e</td>\n",
       "      <td>12</td>\n",
       "    </tr>\n",
       "    <tr>\n",
       "      <th>19</th>\n",
       "      <td>6554ea27378d1f1b846788b3</td>\n",
       "      <td>12</td>\n",
       "    </tr>\n",
       "    <tr>\n",
       "      <th>20</th>\n",
       "      <td>6843d1689d61b53eeae097b1</td>\n",
       "      <td>12</td>\n",
       "    </tr>\n",
       "    <tr>\n",
       "      <th>21</th>\n",
       "      <td>683ca599021675cdcae2a561</td>\n",
       "      <td>12</td>\n",
       "    </tr>\n",
       "    <tr>\n",
       "      <th>22</th>\n",
       "      <td>682e2a3e8a44f3f4e2aac127</td>\n",
       "      <td>12</td>\n",
       "    </tr>\n",
       "    <tr>\n",
       "      <th>23</th>\n",
       "      <td>68325a01e0770b3870ea26b3</td>\n",
       "      <td>12</td>\n",
       "    </tr>\n",
       "    <tr>\n",
       "      <th>24</th>\n",
       "      <td>614ebfa6eff131515482a146</td>\n",
       "      <td>13</td>\n",
       "    </tr>\n",
       "    <tr>\n",
       "      <th>25</th>\n",
       "      <td>67042439a81ac83981a36a73</td>\n",
       "      <td>13</td>\n",
       "    </tr>\n",
       "    <tr>\n",
       "      <th>26</th>\n",
       "      <td>67799d763d5bf5489ac2b034</td>\n",
       "      <td>13</td>\n",
       "    </tr>\n",
       "    <tr>\n",
       "      <th>27</th>\n",
       "      <td>67871b7310fcb596ca70075d</td>\n",
       "      <td>13</td>\n",
       "    </tr>\n",
       "    <tr>\n",
       "      <th>28</th>\n",
       "      <td>655fd05c12d38751dfa91559</td>\n",
       "      <td>13</td>\n",
       "    </tr>\n",
       "    <tr>\n",
       "      <th>29</th>\n",
       "      <td>683b76dbdec83b1c5a663d27</td>\n",
       "      <td>13</td>\n",
       "    </tr>\n",
       "  </tbody>\n",
       "</table>\n",
       "</div>"
      ],
      "text/plain": [
       "                          id  round\n",
       "0   68478bceda532e24d18a322b      9\n",
       "1   67297f70d21c6b7122a7b4d8      9\n",
       "2   5c43517c8fefb60001c447fe      9\n",
       "3   6841eaf1a77941aa86041c54      9\n",
       "4   6844ec5c3f032b8836dc5afb      9\n",
       "5   684a3771c56bb750e8fe13d8      9\n",
       "6   67ace9b8a3dada8f64274fd7     10\n",
       "7   67ad8db455c99b14bcca9a26     10\n",
       "8   5f46cd85e858dd0a24269315     10\n",
       "9   5d2df867d7cc160019673031     10\n",
       "10  682e1dfae06b67a1f4ce070e     10\n",
       "11  65d58a52bf45343f7055b0e3     10\n",
       "12  67e7b44b708fcee3c458d4cf     11\n",
       "13  683f4c4a95e6ac73e9eff935     11\n",
       "14  6733e5e2a104a80184bf6358     11\n",
       "15  6548f960db60a00d76e92695     11\n",
       "16  66e367ac9940dc1f0027eff1     11\n",
       "17  6840e0c53c5973f71512e724     11\n",
       "18  68406af7706e13b75e68962e     12\n",
       "19  6554ea27378d1f1b846788b3     12\n",
       "20  6843d1689d61b53eeae097b1     12\n",
       "21  683ca599021675cdcae2a561     12\n",
       "22  682e2a3e8a44f3f4e2aac127     12\n",
       "23  68325a01e0770b3870ea26b3     12\n",
       "24  614ebfa6eff131515482a146     13\n",
       "25  67042439a81ac83981a36a73     13\n",
       "26  67799d763d5bf5489ac2b034     13\n",
       "27  67871b7310fcb596ca70075d     13\n",
       "28  655fd05c12d38751dfa91559     13\n",
       "29  683b76dbdec83b1c5a663d27     13"
      ]
     },
     "execution_count": 13,
     "metadata": {},
     "output_type": "execute_result"
    }
   ],
   "source": [
    "df"
   ]
  },
  {
   "cell_type": "code",
   "execution_count": 3,
   "id": "093539b3",
   "metadata": {},
   "outputs": [],
   "source": [
    "agg = pd.read_csv('aggregated.csv',header=0)"
   ]
  },
  {
   "cell_type": "code",
   "execution_count": 4,
   "id": "5123a40d",
   "metadata": {},
   "outputs": [
    {
     "data": {
      "text/html": [
       "<div>\n",
       "<style scoped>\n",
       "    .dataframe tbody tr th:only-of-type {\n",
       "        vertical-align: middle;\n",
       "    }\n",
       "\n",
       "    .dataframe tbody tr th {\n",
       "        vertical-align: top;\n",
       "    }\n",
       "\n",
       "    .dataframe thead th {\n",
       "        text-align: right;\n",
       "    }\n",
       "</style>\n",
       "<table border=\"1\" class=\"dataframe\">\n",
       "  <thead>\n",
       "    <tr style=\"text-align: right;\">\n",
       "      <th></th>\n",
       "      <th>p_id</th>\n",
       "      <th>round</th>\n",
       "      <th>mean_style_score</th>\n",
       "    </tr>\n",
       "  </thead>\n",
       "  <tbody>\n",
       "    <tr>\n",
       "      <th>0</th>\n",
       "      <td>55a9f6a1fdf99b2d81b5295f</td>\n",
       "      <td>2</td>\n",
       "      <td>3.300000</td>\n",
       "    </tr>\n",
       "    <tr>\n",
       "      <th>1</th>\n",
       "      <td>5608a73fd7def20012b7389d</td>\n",
       "      <td>4</td>\n",
       "      <td>3.250000</td>\n",
       "    </tr>\n",
       "    <tr>\n",
       "      <th>2</th>\n",
       "      <td>5753046ba6deb50006d64b0f</td>\n",
       "      <td>11</td>\n",
       "      <td>3.250000</td>\n",
       "    </tr>\n",
       "    <tr>\n",
       "      <th>3</th>\n",
       "      <td>580d5d1f357e890001dd14ce</td>\n",
       "      <td>8</td>\n",
       "      <td>3.100000</td>\n",
       "    </tr>\n",
       "    <tr>\n",
       "      <th>4</th>\n",
       "      <td>58f7cdd4c31d4d00015aac83</td>\n",
       "      <td>1</td>\n",
       "      <td>3.166667</td>\n",
       "    </tr>\n",
       "    <tr>\n",
       "      <th>...</th>\n",
       "      <td>...</td>\n",
       "      <td>...</td>\n",
       "      <td>...</td>\n",
       "    </tr>\n",
       "    <tr>\n",
       "      <th>125</th>\n",
       "      <td>6844ec5c3f032b8836dc5afb</td>\n",
       "      <td>10</td>\n",
       "      <td>3.575000</td>\n",
       "    </tr>\n",
       "    <tr>\n",
       "      <th>126</th>\n",
       "      <td>68478bceda532e24d18a322b</td>\n",
       "      <td>9</td>\n",
       "      <td>2.950000</td>\n",
       "    </tr>\n",
       "    <tr>\n",
       "      <th>127</th>\n",
       "      <td>6848b86c31ff951705fe0721</td>\n",
       "      <td>13</td>\n",
       "      <td>2.625000</td>\n",
       "    </tr>\n",
       "    <tr>\n",
       "      <th>128</th>\n",
       "      <td>68499336b2a3912ef86bf3ee</td>\n",
       "      <td>10</td>\n",
       "      <td>2.950000</td>\n",
       "    </tr>\n",
       "    <tr>\n",
       "      <th>129</th>\n",
       "      <td>684a3771c56bb750e8fe13d8</td>\n",
       "      <td>12</td>\n",
       "      <td>2.825000</td>\n",
       "    </tr>\n",
       "  </tbody>\n",
       "</table>\n",
       "<p>130 rows × 3 columns</p>\n",
       "</div>"
      ],
      "text/plain": [
       "                         p_id  round  mean_style_score\n",
       "0    55a9f6a1fdf99b2d81b5295f      2          3.300000\n",
       "1    5608a73fd7def20012b7389d      4          3.250000\n",
       "2    5753046ba6deb50006d64b0f     11          3.250000\n",
       "3    580d5d1f357e890001dd14ce      8          3.100000\n",
       "4    58f7cdd4c31d4d00015aac83      1          3.166667\n",
       "..                        ...    ...               ...\n",
       "125  6844ec5c3f032b8836dc5afb     10          3.575000\n",
       "126  68478bceda532e24d18a322b      9          2.950000\n",
       "127  6848b86c31ff951705fe0721     13          2.625000\n",
       "128  68499336b2a3912ef86bf3ee     10          2.950000\n",
       "129  684a3771c56bb750e8fe13d8     12          2.825000\n",
       "\n",
       "[130 rows x 3 columns]"
      ]
     },
     "execution_count": 4,
     "metadata": {},
     "output_type": "execute_result"
    }
   ],
   "source": [
    "agg"
   ]
  },
  {
   "cell_type": "code",
   "execution_count": 31,
   "id": "4abe82bc",
   "metadata": {},
   "outputs": [],
   "source": [
    "for idx,annot in enumerate(annot_list):\n",
    "    id, rd = annot\n",
    "    rd = agg.loc[agg['p_id'] == id, 'round'].item()\n",
    "    annot = id, rd\n",
    "    annot_list[idx] = annot"
   ]
  },
  {
   "cell_type": "code",
   "execution_count": 43,
   "id": "013a7676",
   "metadata": {},
   "outputs": [],
   "source": [
    "annot_list = sorted(annot_list, key=lambda annot: annot[1])\n",
    "df = pd.DataFrame(annot_list,columns=['id','round'])"
   ]
  },
  {
   "cell_type": "code",
   "execution_count": null,
   "id": "6f6315c2",
   "metadata": {},
   "outputs": [],
   "source": [
    "df.insert(2,'agr','')"
   ]
  },
  {
   "cell_type": "code",
   "execution_count": null,
   "id": "4e060115",
   "metadata": {},
   "outputs": [],
   "source": [
    "df.to_csv('new_random_annot.csv',index=False)"
   ]
  },
  {
   "cell_type": "code",
   "execution_count": 5,
   "id": "caf4d13f",
   "metadata": {},
   "outputs": [],
   "source": [
    "annot_df = pd.read_csv('new_random_annot.csv', header=0)"
   ]
  },
  {
   "cell_type": "code",
   "execution_count": null,
   "id": "81fa863c",
   "metadata": {},
   "outputs": [],
   "source": [
    "annot_df = annot_df.rename(columns={'id':'p_id'})"
   ]
  },
  {
   "cell_type": "code",
   "execution_count": 73,
   "id": "18010608",
   "metadata": {},
   "outputs": [],
   "source": [
    "def add_agr(id, round=9, agr='yes'):\n",
    "    if id in annot_df:\n",
    "        annot_df.loc[annot_df['p_id']==id,'agr'] = agr\n",
    "    else:\n",
    "        annot_df.loc[len(annot_df)] = [id,round,agr]\n",
    "\n",
    "    # print(agr_item)\n",
    "    # annot_df.replace(agr_item,agr)"
   ]
  },
  {
   "cell_type": "code",
   "execution_count": 63,
   "id": "8b03a352",
   "metadata": {},
   "outputs": [
    {
     "name": "stderr",
     "output_type": "stream",
     "text": [
      "/var/folders/bl/m0vvf7f922qcmpcgw7l2vzjr0000gn/T/ipykernel_25112/1343879204.py:2: FutureWarning: Setting an item of incompatible dtype is deprecated and will raise in a future error of pandas. Value 'yes' has dtype incompatible with float64, please explicitly cast to a compatible dtype first.\n",
      "  annot_df.loc[annot_df['p_id']==id,'agr'] = agr\n"
     ]
    }
   ],
   "source": [
    "add_agr('614ebfa6eff131515482a146','yes')\n",
    "add_agr('5d2df867d7cc160019673031','yes')\n",
    "add_agr('67ace9b8a3dada8f64274fd7','yes')\n",
    "add_agr('6733e5e2a104a80184bf6358','yes')\n",
    "add_agr('6554ea27378d1f1b846788b3','yes')"
   ]
  },
  {
   "cell_type": "code",
   "execution_count": 71,
   "id": "8f838c58",
   "metadata": {},
   "outputs": [],
   "source": [
    "annot_df.to_csv('new_random_annot.csv',index=False)"
   ]
  },
  {
   "cell_type": "code",
   "execution_count": 66,
   "id": "79901af2",
   "metadata": {},
   "outputs": [],
   "source": [
    "# agg.loc[~agg.loc[:,'p_id'].isin(annot_df.loc[:,'p_id'])] and agg.loc[~agg.loc[:,'round'].isin(annot_df.loc[:,'round'])]"
   ]
  },
  {
   "cell_type": "code",
   "execution_count": 67,
   "id": "46615cc7",
   "metadata": {},
   "outputs": [],
   "source": [
    "filtered_agg = agg[\n",
    "    (~agg['p_id'].isin(annot_df['p_id'])) &\n",
    "    (agg['round'].isin(annot_df['round']))\n",
    "]\n"
   ]
  },
  {
   "cell_type": "code",
   "execution_count": 68,
   "id": "c9e5722f",
   "metadata": {},
   "outputs": [],
   "source": [
    "filtered_agg.sort_values(by=['round']).to_csv('rem_random_annot.csv',index=False)"
   ]
  },
  {
   "cell_type": "code",
   "execution_count": 69,
   "id": "be3a8fc0",
   "metadata": {},
   "outputs": [
    {
     "name": "stdout",
     "output_type": "stream",
     "text": [
      "5753046ba6deb50006d64b0f,5e8caf1b063693041f6ac524,663e3cee91031227e894384a,6650b582a7a14d7179997819,66eddcfe67e927db6f0a4768,673696f7eb242cad3b6230ef,67ad3b723dcec072cfdf7815,67d38e686bef986a7bf9e769,67d9376e7e1045d6057326bd,67df17f6673d3c0754f7fb33,682a234ab14c7bd80b9b5d47,682ccced13479526ebcb4360,682fa2f5aa8edd41cd06722a,683761c496867fc42f6f571b,683b2e27e104483882e25c00,683f8dfd46ee96edd290371c,6840b151c4d7e9898535450f,6844b3c2054528c906e04f16,6848b86c31ff951705fe0721,68499336b2a3912ef86bf3ee\n"
     ]
    }
   ],
   "source": [
    "print(','.join(filtered_agg['p_id'].tolist()))"
   ]
  },
  {
   "cell_type": "code",
   "execution_count": null,
   "id": "10647eda",
   "metadata": {},
   "outputs": [],
   "source": [
    "add_agr('66eddcfe67e927db6f0a4768','yes')"
   ]
  },
  {
   "cell_type": "code",
   "execution_count": null,
   "id": "216a2c72",
   "metadata": {},
   "outputs": [],
   "source": [
    "# Hello, thank you for participating in our study on Gendered Style Perception. As part of our research, we wanted to get re-annotations for some of the texts, and have selected a few participants randomly for the same. Kindly let us know if you are willing to participate in re-annotating the texts from the study. If yes, we will provide you with further details."
   ]
  },
  {
   "cell_type": "code",
   "execution_count": 76,
   "id": "112eecde",
   "metadata": {},
   "outputs": [],
   "source": [
    "add_agr('67ad3b723dcec072cfdf7815',13,'yes')\n",
    "add_agr('66eddcfe67e927db6f0a4768',12,'yes')\n",
    "add_agr('5e8caf1b063693041f6ac524',12,'yes')\n",
    "add_agr('5753046ba6deb50006d64b0f',11,'yes')"
   ]
  },
  {
   "cell_type": "code",
   "execution_count": 81,
   "id": "e3f6ef42",
   "metadata": {},
   "outputs": [],
   "source": [
    "annot_df = annot_df.sort_values(by=['round'])"
   ]
  },
  {
   "cell_type": "code",
   "execution_count": 82,
   "id": "26a5813f",
   "metadata": {},
   "outputs": [],
   "source": [
    "annot_df.to_csv('new_random_annot.csv',index=False)"
   ]
  },
  {
   "cell_type": "code",
   "execution_count": null,
   "id": "618f3d75",
   "metadata": {},
   "outputs": [],
   "source": []
  }
 ],
 "metadata": {
  "kernelspec": {
   "display_name": "venv",
   "language": "python",
   "name": "venv"
  },
  "language_info": {
   "codemirror_mode": {
    "name": "ipython",
    "version": 3
   },
   "file_extension": ".py",
   "mimetype": "text/x-python",
   "name": "python",
   "nbconvert_exporter": "python",
   "pygments_lexer": "ipython3",
   "version": "3.11.2"
  }
 },
 "nbformat": 4,
 "nbformat_minor": 5
}
