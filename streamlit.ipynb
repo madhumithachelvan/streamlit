{
 "cells": [
  {
   "cell_type": "markdown",
   "source": [],
   "metadata": {
    "collapsed": false
   }
  },
  {
   "cell_type": "code",
   "execution_count": 10,
   "outputs": [],
   "source": [
    "import pandas as pd"
   ],
   "metadata": {
    "collapsed": false,
    "ExecuteTime": {
     "end_time": "2025-01-26T03:02:43.521243Z",
     "start_time": "2025-01-26T03:02:43.091549Z"
    }
   }
  },
  {
   "cell_type": "code",
   "execution_count": 21,
   "outputs": [],
   "source": [
    "def load_data():\n",
    "    return pd.read_csv(\"survey_responses.csv\")\n",
    "\n",
    "\n",
    "data = load_data()"
   ],
   "metadata": {
    "collapsed": false,
    "ExecuteTime": {
     "end_time": "2025-01-26T14:24:11.212463Z",
     "start_time": "2025-01-26T14:24:11.207183Z"
    }
   }
  },
  {
   "cell_type": "code",
   "execution_count": null,
   "outputs": [],
   "source": [],
   "metadata": {
    "collapsed": false
   }
  },
  {
   "cell_type": "code",
   "execution_count": 17,
   "outputs": [],
   "source": [
    "total_regular_texts = len(data[data[\"is_attention_check\"] == False])"
   ],
   "metadata": {
    "collapsed": false,
    "ExecuteTime": {
     "end_time": "2025-01-26T03:27:22.348357Z",
     "start_time": "2025-01-26T03:27:22.345792Z"
    }
   }
  },
  {
   "cell_type": "code",
   "execution_count": 18,
   "outputs": [
    {
     "data": {
      "text/plain": "40"
     },
     "execution_count": 18,
     "metadata": {},
     "output_type": "execute_result"
    }
   ],
   "source": [
    "total_regular_texts"
   ],
   "metadata": {
    "collapsed": false,
    "ExecuteTime": {
     "end_time": "2025-01-26T03:27:24.059893Z",
     "start_time": "2025-01-26T03:27:24.056199Z"
    }
   }
  },
  {
   "cell_type": "code",
   "execution_count": 19,
   "outputs": [
    {
     "data": {
      "text/plain": "43"
     },
     "execution_count": 19,
     "metadata": {},
     "output_type": "execute_result"
    }
   ],
   "source": [
    "len(data)"
   ],
   "metadata": {
    "collapsed": false,
    "ExecuteTime": {
     "end_time": "2025-01-26T03:27:29.225354Z",
     "start_time": "2025-01-26T03:27:29.220837Z"
    }
   }
  },
  {
   "cell_type": "code",
   "execution_count": 22,
   "outputs": [
    {
     "data": {
      "text/plain": "                                          confidence  comments  style  \\\n0  1: Not Confident. You were unsure or found the...       NaN      2   \n1  1: Not Confident. You were unsure or found the...       NaN      2   \n2  1: Not Confident. You were unsure or found the...       NaN      2   \n3  1: Not Confident. You were unsure or found the...       NaN      3   \n4  2: Somewhat Confident. You made a judgment but...       NaN      3   \n\n   completed                                              texts    p_id  \\\n0       True  I'll start off by saying I'm a vegetarian and ...  d fa f   \n1       True  My argument: if all vehicles have their gas ca...  d fa f   \n2       True  Alright, so, i was challenged by a friend of m...  d fa f   \n3       True  Everytime the topic of Gun Control comes up, b...  d fa f   \n4       True  First off, I like pandas I think they are cute...  d fa f   \n\n         english  consent  \n0  Mother tongue  I agree  \n1  Mother tongue  I agree  \n2  Mother tongue  I agree  \n3  Mother tongue  I agree  \n4  Mother tongue  I agree  ",
      "text/html": "<div>\n<style scoped>\n    .dataframe tbody tr th:only-of-type {\n        vertical-align: middle;\n    }\n\n    .dataframe tbody tr th {\n        vertical-align: top;\n    }\n\n    .dataframe thead th {\n        text-align: right;\n    }\n</style>\n<table border=\"1\" class=\"dataframe\">\n  <thead>\n    <tr style=\"text-align: right;\">\n      <th></th>\n      <th>confidence</th>\n      <th>comments</th>\n      <th>style</th>\n      <th>completed</th>\n      <th>texts</th>\n      <th>p_id</th>\n      <th>english</th>\n      <th>consent</th>\n    </tr>\n  </thead>\n  <tbody>\n    <tr>\n      <th>0</th>\n      <td>1: Not Confident. You were unsure or found the...</td>\n      <td>NaN</td>\n      <td>2</td>\n      <td>True</td>\n      <td>I'll start off by saying I'm a vegetarian and ...</td>\n      <td>d fa f</td>\n      <td>Mother tongue</td>\n      <td>I agree</td>\n    </tr>\n    <tr>\n      <th>1</th>\n      <td>1: Not Confident. You were unsure or found the...</td>\n      <td>NaN</td>\n      <td>2</td>\n      <td>True</td>\n      <td>My argument: if all vehicles have their gas ca...</td>\n      <td>d fa f</td>\n      <td>Mother tongue</td>\n      <td>I agree</td>\n    </tr>\n    <tr>\n      <th>2</th>\n      <td>1: Not Confident. You were unsure or found the...</td>\n      <td>NaN</td>\n      <td>2</td>\n      <td>True</td>\n      <td>Alright, so, i was challenged by a friend of m...</td>\n      <td>d fa f</td>\n      <td>Mother tongue</td>\n      <td>I agree</td>\n    </tr>\n    <tr>\n      <th>3</th>\n      <td>1: Not Confident. You were unsure or found the...</td>\n      <td>NaN</td>\n      <td>3</td>\n      <td>True</td>\n      <td>Everytime the topic of Gun Control comes up, b...</td>\n      <td>d fa f</td>\n      <td>Mother tongue</td>\n      <td>I agree</td>\n    </tr>\n    <tr>\n      <th>4</th>\n      <td>2: Somewhat Confident. You made a judgment but...</td>\n      <td>NaN</td>\n      <td>3</td>\n      <td>True</td>\n      <td>First off, I like pandas I think they are cute...</td>\n      <td>d fa f</td>\n      <td>Mother tongue</td>\n      <td>I agree</td>\n    </tr>\n  </tbody>\n</table>\n</div>"
     },
     "execution_count": 22,
     "metadata": {},
     "output_type": "execute_result"
    }
   ],
   "source": [
    "data.head()"
   ],
   "metadata": {
    "collapsed": false,
    "ExecuteTime": {
     "end_time": "2025-01-26T14:24:25.963159Z",
     "start_time": "2025-01-26T14:24:25.953045Z"
    }
   }
  },
  {
   "cell_type": "code",
   "execution_count": null,
   "outputs": [],
   "source": [],
   "metadata": {
    "collapsed": false
   }
  }
 ],
 "metadata": {
  "kernelspec": {
   "display_name": "Python 3",
   "language": "python",
   "name": "python3"
  },
  "language_info": {
   "codemirror_mode": {
    "name": "ipython",
    "version": 2
   },
   "file_extension": ".py",
   "mimetype": "text/x-python",
   "name": "python",
   "nbconvert_exporter": "python",
   "pygments_lexer": "ipython2",
   "version": "2.7.6"
  }
 },
 "nbformat": 4,
 "nbformat_minor": 0
}
