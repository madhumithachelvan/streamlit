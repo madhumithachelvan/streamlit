{
 "cells": [
  {
   "cell_type": "markdown",
   "source": [],
   "metadata": {
    "collapsed": false
   }
  },
  {
   "cell_type": "code",
   "execution_count": 10,
   "outputs": [],
   "source": [
    "import pandas as pd"
   ],
   "metadata": {
    "collapsed": false,
    "ExecuteTime": {
     "end_time": "2025-01-26T03:02:43.521243Z",
     "start_time": "2025-01-26T03:02:43.091549Z"
    }
   }
  },
  {
   "cell_type": "code",
   "execution_count": 30,
   "outputs": [],
   "source": [
    "def load_data():\n",
    "    return pd.read_csv(\"data_pilot2_attention.csv\")\n",
    "\n",
    "\n",
    "data = load_data()"
   ],
   "metadata": {
    "collapsed": false,
    "ExecuteTime": {
     "end_time": "2025-01-28T03:01:37.343327Z",
     "start_time": "2025-01-28T03:01:37.337356Z"
    }
   }
  },
  {
   "cell_type": "code",
   "execution_count": null,
   "outputs": [],
   "source": [],
   "metadata": {
    "collapsed": false
   }
  },
  {
   "cell_type": "code",
   "execution_count": 17,
   "outputs": [],
   "source": [
    "total_regular_texts = len(data[data[\"is_attention_check\"] == False])"
   ],
   "metadata": {
    "collapsed": false,
    "ExecuteTime": {
     "end_time": "2025-01-26T03:27:22.348357Z",
     "start_time": "2025-01-26T03:27:22.345792Z"
    }
   }
  },
  {
   "cell_type": "code",
   "execution_count": 18,
   "outputs": [
    {
     "data": {
      "text/plain": "40"
     },
     "execution_count": 18,
     "metadata": {},
     "output_type": "execute_result"
    }
   ],
   "source": [
    "total_regular_texts"
   ],
   "metadata": {
    "collapsed": false,
    "ExecuteTime": {
     "end_time": "2025-01-26T03:27:24.059893Z",
     "start_time": "2025-01-26T03:27:24.056199Z"
    }
   }
  },
  {
   "cell_type": "code",
   "execution_count": 19,
   "outputs": [
    {
     "data": {
      "text/plain": "43"
     },
     "execution_count": 19,
     "metadata": {},
     "output_type": "execute_result"
    }
   ],
   "source": [
    "len(data)"
   ],
   "metadata": {
    "collapsed": false,
    "ExecuteTime": {
     "end_time": "2025-01-26T03:27:29.225354Z",
     "start_time": "2025-01-26T03:27:29.220837Z"
    }
   }
  },
  {
   "cell_type": "code",
   "execution_count": 32,
   "outputs": [
    {
     "data": {
      "text/plain": "                                  id  \\\n0                              15793   \n1                              16634   \n2                              16875   \n3                              10321   \n4                              11123   \n5                              34096   \n6                              35366   \n7                              38815   \n8                              12908   \n9                                  1   \n10                              2299   \n11  154d14665eed2898811501cdd0871165   \n12  155ea7d9a0596fd818706315581a6664   \n13  1569546eebd99fe13c053ef20765602e   \n14  158fb28aad6b42fe173d057ba47acefb   \n15  159ebec2a694fcb40f55509192aa36c5   \n16  15b15866b6bcce3598980ea995d5676c   \n17  15c3fc95623fa94cebcd807591f814ac   \n18                                 2   \n19  15cdfc8d49f4b8d95e221d4a0fc8037e   \n20  15e9862a7e3d8628eada3d5d18dd211b   \n21  1607a2f7d5dec66995009be35be50b92   \n22  160d076ab07314735185a98448d005ac   \n23  18d09d885bdcedc0f7f1ffaf5c1a6060   \n24  18d1293c3a189d6a03ccca3a32103175   \n25  18d145c29e03ded1ead32bb6e4d3a33c   \n26                                 3   \n27                           3293930   \n28                           3311002   \n29                           3308440   \n30                           3311341   \n31                           3316602   \n32                           3327346   \n33                           3313320   \n34                           3225913   \n35                           3215088   \n36                           3318430   \n37                           3333009   \n38                           3222496   \n39                           3306403   \n40                           3323922   \n41                           3310540   \n42                           3331464   \n\n                                                texts  is_attention_check  \\\n0   The crowed cheered as the fireworks began. The...               False   \n1   We walked down a scary path. We saw urns store...               False   \n2   I was hanging out with friends at the bar. We ...               False   \n3   Last night, we were trying to decide what to h...               False   \n4   I went and took pictures of people, places, an...               False   \n5   Wow, a carnival and a rodeo! There's nothing l...               False   \n6   The cow is ready to go on a adventure. First h...               False   \n7   We had a night of fun. We gathered at an apart...               False   \n8   I took my son to the parade in July. We honore...               False   \n9   This is an attention check. Please select 'Som...                True   \n10  When in the woods, I saw such gigantic spider ...               False   \n11  I dedicate my life to supporting other people ...               False   \n12  These things have I written unto u that believ...               False   \n13  Each parent aims to bring up a child that's lo...               False   \n14  Blog writing is a very good way of expression ...               False   \n15  I am a working journalist living in NYC. I joi...               False   \n16  To consistently build a fortune in life, you n...               False   \n17  It is those who cnt swim that are quick to tel...               False   \n18  This is an attention check. Please select 'Neu...                True   \n19  Persuading someone to take action only through...               False   \n20  Have you been looking to get started a bathroo...               False   \n21  Education of a nation rests equally on which t...               False   \n22  Shit Lyfz so depressing here in RAK ; ...Plzzz...               False   \n23  It is a bit suprising that although the world ...               False   \n24  There’s no person in the world who is made to ...               False   \n25  What's the ideal way for guys to tactic online...               False   \n26  This is an attention check. Please select 'Ver...                True   \n27  It's easy to forget the true meaning of this d...               False   \n28  OMG it is so hot and humid! Today was this clo...               False   \n29  Ahh finally the weekend a time for relaxing bu...               False   \n30  My parents are a bunch of people... Nothing mo...               False   \n31  I've been thinkin bout yesterdae...i talked to...               False   \n32  Decisions, decisions…. sometimes they can trul...               False   \n33  This is what I still have left to pack. /(-.-)...               False   \n34  If music is said to tame the savage beast, the...               False   \n35  Woooooooo!!!!!!! THe Plane flown off liao........               False   \n36  I went to my dinner dance yesterday, and it wa...               False   \n37  Thank you God!!! You have said you will provid...               False   \n38  Work!! Work!! I hate my workplace!!! Well for ...               False   \n39  Its Saturday and its supposed to be the weeken...               False   \n40  I ran a 10 Miler on May 15th. I was slightly d...               False   \n41  This is an experiment for a rainy day. I wrote...               False   \n42  I called Mom and asked her to read the recipe ...               False   \n\n    attention_check_instruction  expected_answer  \n0                           NaN              NaN  \n1                           NaN              NaN  \n2                           NaN              NaN  \n3                           NaN              NaN  \n4                           NaN              NaN  \n5                           NaN              NaN  \n6                           NaN              NaN  \n7                           NaN              NaN  \n8                           NaN              NaN  \n9                           NaN              2.0  \n10                          NaN              NaN  \n11                          NaN              NaN  \n12                          NaN              NaN  \n13                          NaN              NaN  \n14                          NaN              NaN  \n15                          NaN              NaN  \n16                          NaN              NaN  \n17                          NaN              NaN  \n18                          NaN              3.0  \n19                          NaN              NaN  \n20                          NaN              NaN  \n21                          NaN              NaN  \n22                          NaN              NaN  \n23                          NaN              NaN  \n24                          NaN              NaN  \n25                          NaN              NaN  \n26                          NaN              5.0  \n27                          NaN              NaN  \n28                          NaN              NaN  \n29                          NaN              NaN  \n30                          NaN              NaN  \n31                          NaN              NaN  \n32                          NaN              NaN  \n33                          NaN              NaN  \n34                          NaN              NaN  \n35                          NaN              NaN  \n36                          NaN              NaN  \n37                          NaN              NaN  \n38                          NaN              NaN  \n39                          NaN              NaN  \n40                          NaN              NaN  \n41                          NaN              NaN  \n42                          NaN              NaN  ",
      "text/html": "<div>\n<style scoped>\n    .dataframe tbody tr th:only-of-type {\n        vertical-align: middle;\n    }\n\n    .dataframe tbody tr th {\n        vertical-align: top;\n    }\n\n    .dataframe thead th {\n        text-align: right;\n    }\n</style>\n<table border=\"1\" class=\"dataframe\">\n  <thead>\n    <tr style=\"text-align: right;\">\n      <th></th>\n      <th>id</th>\n      <th>texts</th>\n      <th>is_attention_check</th>\n      <th>attention_check_instruction</th>\n      <th>expected_answer</th>\n    </tr>\n  </thead>\n  <tbody>\n    <tr>\n      <th>0</th>\n      <td>15793</td>\n      <td>The crowed cheered as the fireworks began. The...</td>\n      <td>False</td>\n      <td>NaN</td>\n      <td>NaN</td>\n    </tr>\n    <tr>\n      <th>1</th>\n      <td>16634</td>\n      <td>We walked down a scary path. We saw urns store...</td>\n      <td>False</td>\n      <td>NaN</td>\n      <td>NaN</td>\n    </tr>\n    <tr>\n      <th>2</th>\n      <td>16875</td>\n      <td>I was hanging out with friends at the bar. We ...</td>\n      <td>False</td>\n      <td>NaN</td>\n      <td>NaN</td>\n    </tr>\n    <tr>\n      <th>3</th>\n      <td>10321</td>\n      <td>Last night, we were trying to decide what to h...</td>\n      <td>False</td>\n      <td>NaN</td>\n      <td>NaN</td>\n    </tr>\n    <tr>\n      <th>4</th>\n      <td>11123</td>\n      <td>I went and took pictures of people, places, an...</td>\n      <td>False</td>\n      <td>NaN</td>\n      <td>NaN</td>\n    </tr>\n    <tr>\n      <th>5</th>\n      <td>34096</td>\n      <td>Wow, a carnival and a rodeo! There's nothing l...</td>\n      <td>False</td>\n      <td>NaN</td>\n      <td>NaN</td>\n    </tr>\n    <tr>\n      <th>6</th>\n      <td>35366</td>\n      <td>The cow is ready to go on a adventure. First h...</td>\n      <td>False</td>\n      <td>NaN</td>\n      <td>NaN</td>\n    </tr>\n    <tr>\n      <th>7</th>\n      <td>38815</td>\n      <td>We had a night of fun. We gathered at an apart...</td>\n      <td>False</td>\n      <td>NaN</td>\n      <td>NaN</td>\n    </tr>\n    <tr>\n      <th>8</th>\n      <td>12908</td>\n      <td>I took my son to the parade in July. We honore...</td>\n      <td>False</td>\n      <td>NaN</td>\n      <td>NaN</td>\n    </tr>\n    <tr>\n      <th>9</th>\n      <td>1</td>\n      <td>This is an attention check. Please select 'Som...</td>\n      <td>True</td>\n      <td>NaN</td>\n      <td>2.0</td>\n    </tr>\n    <tr>\n      <th>10</th>\n      <td>2299</td>\n      <td>When in the woods, I saw such gigantic spider ...</td>\n      <td>False</td>\n      <td>NaN</td>\n      <td>NaN</td>\n    </tr>\n    <tr>\n      <th>11</th>\n      <td>154d14665eed2898811501cdd0871165</td>\n      <td>I dedicate my life to supporting other people ...</td>\n      <td>False</td>\n      <td>NaN</td>\n      <td>NaN</td>\n    </tr>\n    <tr>\n      <th>12</th>\n      <td>155ea7d9a0596fd818706315581a6664</td>\n      <td>These things have I written unto u that believ...</td>\n      <td>False</td>\n      <td>NaN</td>\n      <td>NaN</td>\n    </tr>\n    <tr>\n      <th>13</th>\n      <td>1569546eebd99fe13c053ef20765602e</td>\n      <td>Each parent aims to bring up a child that's lo...</td>\n      <td>False</td>\n      <td>NaN</td>\n      <td>NaN</td>\n    </tr>\n    <tr>\n      <th>14</th>\n      <td>158fb28aad6b42fe173d057ba47acefb</td>\n      <td>Blog writing is a very good way of expression ...</td>\n      <td>False</td>\n      <td>NaN</td>\n      <td>NaN</td>\n    </tr>\n    <tr>\n      <th>15</th>\n      <td>159ebec2a694fcb40f55509192aa36c5</td>\n      <td>I am a working journalist living in NYC. I joi...</td>\n      <td>False</td>\n      <td>NaN</td>\n      <td>NaN</td>\n    </tr>\n    <tr>\n      <th>16</th>\n      <td>15b15866b6bcce3598980ea995d5676c</td>\n      <td>To consistently build a fortune in life, you n...</td>\n      <td>False</td>\n      <td>NaN</td>\n      <td>NaN</td>\n    </tr>\n    <tr>\n      <th>17</th>\n      <td>15c3fc95623fa94cebcd807591f814ac</td>\n      <td>It is those who cnt swim that are quick to tel...</td>\n      <td>False</td>\n      <td>NaN</td>\n      <td>NaN</td>\n    </tr>\n    <tr>\n      <th>18</th>\n      <td>2</td>\n      <td>This is an attention check. Please select 'Neu...</td>\n      <td>True</td>\n      <td>NaN</td>\n      <td>3.0</td>\n    </tr>\n    <tr>\n      <th>19</th>\n      <td>15cdfc8d49f4b8d95e221d4a0fc8037e</td>\n      <td>Persuading someone to take action only through...</td>\n      <td>False</td>\n      <td>NaN</td>\n      <td>NaN</td>\n    </tr>\n    <tr>\n      <th>20</th>\n      <td>15e9862a7e3d8628eada3d5d18dd211b</td>\n      <td>Have you been looking to get started a bathroo...</td>\n      <td>False</td>\n      <td>NaN</td>\n      <td>NaN</td>\n    </tr>\n    <tr>\n      <th>21</th>\n      <td>1607a2f7d5dec66995009be35be50b92</td>\n      <td>Education of a nation rests equally on which t...</td>\n      <td>False</td>\n      <td>NaN</td>\n      <td>NaN</td>\n    </tr>\n    <tr>\n      <th>22</th>\n      <td>160d076ab07314735185a98448d005ac</td>\n      <td>Shit Lyfz so depressing here in RAK ; ...Plzzz...</td>\n      <td>False</td>\n      <td>NaN</td>\n      <td>NaN</td>\n    </tr>\n    <tr>\n      <th>23</th>\n      <td>18d09d885bdcedc0f7f1ffaf5c1a6060</td>\n      <td>It is a bit suprising that although the world ...</td>\n      <td>False</td>\n      <td>NaN</td>\n      <td>NaN</td>\n    </tr>\n    <tr>\n      <th>24</th>\n      <td>18d1293c3a189d6a03ccca3a32103175</td>\n      <td>There’s no person in the world who is made to ...</td>\n      <td>False</td>\n      <td>NaN</td>\n      <td>NaN</td>\n    </tr>\n    <tr>\n      <th>25</th>\n      <td>18d145c29e03ded1ead32bb6e4d3a33c</td>\n      <td>What's the ideal way for guys to tactic online...</td>\n      <td>False</td>\n      <td>NaN</td>\n      <td>NaN</td>\n    </tr>\n    <tr>\n      <th>26</th>\n      <td>3</td>\n      <td>This is an attention check. Please select 'Ver...</td>\n      <td>True</td>\n      <td>NaN</td>\n      <td>5.0</td>\n    </tr>\n    <tr>\n      <th>27</th>\n      <td>3293930</td>\n      <td>It's easy to forget the true meaning of this d...</td>\n      <td>False</td>\n      <td>NaN</td>\n      <td>NaN</td>\n    </tr>\n    <tr>\n      <th>28</th>\n      <td>3311002</td>\n      <td>OMG it is so hot and humid! Today was this clo...</td>\n      <td>False</td>\n      <td>NaN</td>\n      <td>NaN</td>\n    </tr>\n    <tr>\n      <th>29</th>\n      <td>3308440</td>\n      <td>Ahh finally the weekend a time for relaxing bu...</td>\n      <td>False</td>\n      <td>NaN</td>\n      <td>NaN</td>\n    </tr>\n    <tr>\n      <th>30</th>\n      <td>3311341</td>\n      <td>My parents are a bunch of people... Nothing mo...</td>\n      <td>False</td>\n      <td>NaN</td>\n      <td>NaN</td>\n    </tr>\n    <tr>\n      <th>31</th>\n      <td>3316602</td>\n      <td>I've been thinkin bout yesterdae...i talked to...</td>\n      <td>False</td>\n      <td>NaN</td>\n      <td>NaN</td>\n    </tr>\n    <tr>\n      <th>32</th>\n      <td>3327346</td>\n      <td>Decisions, decisions…. sometimes they can trul...</td>\n      <td>False</td>\n      <td>NaN</td>\n      <td>NaN</td>\n    </tr>\n    <tr>\n      <th>33</th>\n      <td>3313320</td>\n      <td>This is what I still have left to pack. /(-.-)...</td>\n      <td>False</td>\n      <td>NaN</td>\n      <td>NaN</td>\n    </tr>\n    <tr>\n      <th>34</th>\n      <td>3225913</td>\n      <td>If music is said to tame the savage beast, the...</td>\n      <td>False</td>\n      <td>NaN</td>\n      <td>NaN</td>\n    </tr>\n    <tr>\n      <th>35</th>\n      <td>3215088</td>\n      <td>Woooooooo!!!!!!! THe Plane flown off liao........</td>\n      <td>False</td>\n      <td>NaN</td>\n      <td>NaN</td>\n    </tr>\n    <tr>\n      <th>36</th>\n      <td>3318430</td>\n      <td>I went to my dinner dance yesterday, and it wa...</td>\n      <td>False</td>\n      <td>NaN</td>\n      <td>NaN</td>\n    </tr>\n    <tr>\n      <th>37</th>\n      <td>3333009</td>\n      <td>Thank you God!!! You have said you will provid...</td>\n      <td>False</td>\n      <td>NaN</td>\n      <td>NaN</td>\n    </tr>\n    <tr>\n      <th>38</th>\n      <td>3222496</td>\n      <td>Work!! Work!! I hate my workplace!!! Well for ...</td>\n      <td>False</td>\n      <td>NaN</td>\n      <td>NaN</td>\n    </tr>\n    <tr>\n      <th>39</th>\n      <td>3306403</td>\n      <td>Its Saturday and its supposed to be the weeken...</td>\n      <td>False</td>\n      <td>NaN</td>\n      <td>NaN</td>\n    </tr>\n    <tr>\n      <th>40</th>\n      <td>3323922</td>\n      <td>I ran a 10 Miler on May 15th. I was slightly d...</td>\n      <td>False</td>\n      <td>NaN</td>\n      <td>NaN</td>\n    </tr>\n    <tr>\n      <th>41</th>\n      <td>3310540</td>\n      <td>This is an experiment for a rainy day. I wrote...</td>\n      <td>False</td>\n      <td>NaN</td>\n      <td>NaN</td>\n    </tr>\n    <tr>\n      <th>42</th>\n      <td>3331464</td>\n      <td>I called Mom and asked her to read the recipe ...</td>\n      <td>False</td>\n      <td>NaN</td>\n      <td>NaN</td>\n    </tr>\n  </tbody>\n</table>\n</div>"
     },
     "execution_count": 32,
     "metadata": {},
     "output_type": "execute_result"
    }
   ],
   "source": [
    "data"
   ],
   "metadata": {
    "collapsed": false,
    "ExecuteTime": {
     "end_time": "2025-01-28T03:01:48.465185Z",
     "start_time": "2025-01-28T03:01:48.460427Z"
    }
   }
  },
  {
   "cell_type": "code",
   "execution_count": 27,
   "outputs": [],
   "source": [
    "user_id = 1"
   ],
   "metadata": {
    "collapsed": false,
    "ExecuteTime": {
     "end_time": "2025-01-28T02:22:43.470565Z",
     "start_time": "2025-01-28T02:22:43.465834Z"
    }
   }
  },
  {
   "cell_type": "code",
   "execution_count": 28,
   "outputs": [
    {
     "data": {
      "text/plain": "1"
     },
     "execution_count": 28,
     "metadata": {},
     "output_type": "execute_result"
    }
   ],
   "source": [
    "user_id"
   ],
   "metadata": {
    "collapsed": false,
    "ExecuteTime": {
     "end_time": "2025-01-28T02:22:43.947041Z",
     "start_time": "2025-01-28T02:22:43.942201Z"
    }
   }
  },
  {
   "cell_type": "code",
   "execution_count": null,
   "outputs": [],
   "source": [],
   "metadata": {
    "collapsed": false
   }
  }
 ],
 "metadata": {
  "kernelspec": {
   "display_name": "Python 3",
   "language": "python",
   "name": "python3"
  },
  "language_info": {
   "codemirror_mode": {
    "name": "ipython",
    "version": 2
   },
   "file_extension": ".py",
   "mimetype": "text/x-python",
   "name": "python",
   "nbconvert_exporter": "python",
   "pygments_lexer": "ipython2",
   "version": "2.7.6"
  }
 },
 "nbformat": 4,
 "nbformat_minor": 0
}
