{
 "cells": [
  {
   "cell_type": "markdown",
   "source": [],
   "metadata": {
    "collapsed": false
   }
  },
  {
   "cell_type": "code",
   "execution_count": 4,
   "outputs": [],
   "source": [
    "import pandas as pd"
   ],
   "metadata": {
    "collapsed": false,
    "ExecuteTime": {
     "end_time": "2025-02-10T14:39:07.100629Z",
     "start_time": "2025-02-10T14:39:06.751706Z"
    }
   }
  },
  {
   "cell_type": "code",
   "execution_count": 10,
   "outputs": [],
   "source": [
    "def load_data():\n",
    "    return pd.read_csv(\"survey_responses_df_2025-02-10_19-02-30.csv\")\n",
    "\n",
    "data = load_data()"
   ],
   "metadata": {
    "collapsed": false,
    "ExecuteTime": {
     "end_time": "2025-02-10T18:03:10.612406Z",
     "start_time": "2025-02-10T18:03:10.606102Z"
    }
   }
  },
  {
   "cell_type": "code",
   "execution_count": null,
   "outputs": [],
   "source": [],
   "metadata": {
    "collapsed": false
   }
  },
  {
   "cell_type": "code",
   "execution_count": 17,
   "outputs": [],
   "source": [
    "total_regular_texts = len(data[data[\"is_attention_check\"] == False])"
   ],
   "metadata": {
    "collapsed": false,
    "ExecuteTime": {
     "end_time": "2025-01-26T03:27:22.348357Z",
     "start_time": "2025-01-26T03:27:22.345792Z"
    }
   }
  },
  {
   "cell_type": "code",
   "execution_count": 18,
   "outputs": [
    {
     "data": {
      "text/plain": "40"
     },
     "execution_count": 18,
     "metadata": {},
     "output_type": "execute_result"
    }
   ],
   "source": [
    "total_regular_texts"
   ],
   "metadata": {
    "collapsed": false,
    "ExecuteTime": {
     "end_time": "2025-01-26T03:27:24.059893Z",
     "start_time": "2025-01-26T03:27:24.056199Z"
    }
   }
  },
  {
   "cell_type": "code",
   "execution_count": 19,
   "outputs": [
    {
     "data": {
      "text/plain": "43"
     },
     "execution_count": 19,
     "metadata": {},
     "output_type": "execute_result"
    }
   ],
   "source": [
    "len(data)"
   ],
   "metadata": {
    "collapsed": false,
    "ExecuteTime": {
     "end_time": "2025-01-26T03:27:29.225354Z",
     "start_time": "2025-01-26T03:27:29.220837Z"
    }
   }
  },
  {
   "cell_type": "code",
   "execution_count": 11,
   "outputs": [
    {
     "data": {
      "text/plain": "                                           confidence  comments  \\\n0   2: Somewhat Confident. You made a judgment but...       NaN   \n1   2: Somewhat Confident. You made a judgment but...       NaN   \n2   2: Somewhat Confident. You made a judgment but...       NaN   \n3   3: Moderately Confident. You felt reasonably s...       NaN   \n4   2: Somewhat Confident. You made a judgment but...       NaN   \n5   3: Moderately Confident. You felt reasonably s...       NaN   \n6   2: Somewhat Confident. You made a judgment but...       NaN   \n7   3: Moderately Confident. You felt reasonably s...       NaN   \n8   2: Somewhat Confident. You made a judgment but...       NaN   \n9   2: Somewhat Confident. You made a judgment but...       NaN   \n10  3: Moderately Confident. You felt reasonably s...       NaN   \n11  4: Very Confident. You were very certain about...       NaN   \n12  4: Very Confident. You were very certain about...       NaN   \n13  3: Moderately Confident. You felt reasonably s...       NaN   \n14  2: Somewhat Confident. You made a judgment but...       NaN   \n15  4: Very Confident. You were very certain about...       NaN   \n16  2: Somewhat Confident. You made a judgment but...       NaN   \n17  3: Moderately Confident. You felt reasonably s...       NaN   \n18  3: Moderately Confident. You felt reasonably s...       NaN   \n19  3: Moderately Confident. You felt reasonably s...       NaN   \n20  3: Moderately Confident. You felt reasonably s...       NaN   \n21  3: Moderately Confident. You felt reasonably s...       NaN   \n22  3: Moderately Confident. You felt reasonably s...       NaN   \n23  1: Not Confident. You were unsure or found the...       NaN   \n24  2: Somewhat Confident. You made a judgment but...       NaN   \n25  3: Moderately Confident. You felt reasonably s...       NaN   \n26  2: Somewhat Confident. You made a judgment but...       NaN   \n27  2: Somewhat Confident. You made a judgment but...       NaN   \n28  2: Somewhat Confident. You made a judgment but...       NaN   \n29  3: Moderately Confident. You felt reasonably s...       NaN   \n30  2: Somewhat Confident. You made a judgment but...       NaN   \n31  3: Moderately Confident. You felt reasonably s...       NaN   \n32  3: Moderately Confident. You felt reasonably s...       NaN   \n33  4: Very Confident. You were very certain about...       NaN   \n34  2: Somewhat Confident. You made a judgment but...       NaN   \n35  4: Very Confident. You were very certain about...       NaN   \n36  3: Moderately Confident. You felt reasonably s...       NaN   \n37  4: Very Confident. You were very certain about...       NaN   \n38  3: Moderately Confident. You felt reasonably s...       NaN   \n39  4: Very Confident. You were very certain about...       NaN   \n40  4: Very Confident. You were very certain about...       NaN   \n41  3: Moderately Confident. You felt reasonably s...       NaN   \n42  4: Very Confident. You were very certain about...       NaN   \n\n                    style                                              texts  \\\n0    2: Somewhat Feminine  I prepared my rocket for the competition. I se...   \n1   4: Somewhat Masculine  Today it was finally Easter at our church. The...   \n2    2: Somewhat Feminine  As I enter my third year teaching at Independe...   \n3   4: Somewhat Masculine  There is a sign for the Sagamore. Tiffany is a...   \n4    2: Somewhat Feminine  The crowd gathered and planned to see the conc...   \n5   4: Somewhat Masculine  busy week, sport, music the usual stuff. could...   \n6    2: Somewhat Feminine  Texas Hunting Land is a perfect venue for your...   \n7       5: Very Masculine  ha!z.. todae waste lots of time in class cuz l...   \n8    2: Somewhat Feminine  We have waited so long for this moment sometim...   \n9    2: Somewhat Feminine  This is an attention check. Please select 'Som...   \n10  4: Somewhat Masculine  The foreigners took a tour of the city. They w...   \n11      5: Very Masculine  Artists set up their float for a parade. Peopl...   \n12             3: Neutral  The   software program can be quite difficult ...   \n13   2: Somewhat Feminine  However WordPress and Joomla seem to have an e...   \n14             3: Neutral  I'm a student of architecture on my senior tri...   \n15  4: Somewhat Masculine  Today we checked out this nice humble home. Th...   \n16             3: Neutral  When the customers clicked the ad, he or she w...   \n17  4: Somewhat Masculine  I went on vacation with my family in a trashy ...   \n18             3: Neutral  This is an attention check. Please select 'Neu...   \n19   2: Somewhat Feminine  First of all you had much better make confiden...   \n20  4: Somewhat Masculine  hey Ladies out there i joined this site coz of...   \n21  4: Somewhat Masculine  You won't believe it, I just wasted 5 hours si...   \n22   2: Somewhat Feminine  Last week I was Up North. We have a simmer hou...   \n23      5: Very Masculine  I went for a quick walk around town, starting ...   \n24             3: Neutral  Today I got to do a beautiful wedding day shoo...   \n25   2: Somewhat Feminine  It was a special day for the marching band at ...   \n26       1: Very Feminine  This is an attention check. Please select 'Ver...   \n27             3: Neutral  God what is going on this world! Isaiah 4:1 sa...   \n28  4: Somewhat Masculine  There are so many different ways that you can ...   \n29      5: Very Masculine  On the tour, we first stopped in the city squa...   \n30   2: Somewhat Feminine  If you are among many individuals who are inte...   \n31       1: Very Feminine  Check the brakes, the wipers and the heater ca...   \n32  4: Somewhat Masculine  Getting transportation is a trouble. If you do...   \n33   2: Somewhat Feminine  The stage is being set The singers have come o...   \n34   2: Somewhat Feminine  Beautiful Day in Connecticut, sunny nice breez...   \n35  4: Somewhat Masculine  Nevertheless, you can avoid these kinds of sit...   \n36      5: Very Masculine  My Gallery Opening! Here is my first piece - m...   \n37             3: Neutral  Taking a stroll around the neighborhood to tak...   \n38   2: Somewhat Feminine  I took a trip upstate last fall near the river...   \n39  4: Somewhat Masculine  Effectively designed newsletters can better in...   \n40             3: Neutral  After a very short discussion, Mark and I deci...   \n41             3: Neutral  I met this female ski instructor before skiing...   \n42             3: Neutral  Last night I jammed with Brian and Randy. (Thi...   \n\n                             text_id       label p_id  feedback  consent  \\\n0                              17681      Female   df       NaN  I agree   \n1                              13578        Male   df       NaN  I agree   \n2                            3865293      female   df       NaN  I agree   \n3                               9216        Male   df       NaN  I agree   \n4                               1969        Male   df       NaN  I agree   \n5                            3621783        male   df       NaN  I agree   \n6   d328a3c669a5b60298396a53ec2b9e39        male   df       NaN  I agree   \n7                            3990524        male   df       NaN  I agree   \n8                              28956  Non-binary   df       NaN  I agree   \n9                                  1         NaN   df       NaN  I agree   \n10                              9084  Non-binary   df       NaN  I agree   \n11                             10849      Female   df       NaN  I agree   \n12  dd7ae05ce600dc92cd6ecb4dc5513280      female   df       NaN  I agree   \n13  75eaa4a58551cf942052ad916998b143      female   df       NaN  I agree   \n14                             34463        Male   df       NaN  I agree   \n15                              9317        Male   df       NaN  I agree   \n16  e684ff165d6eb4ec1b922b4c834be23e      female   df       NaN  I agree   \n17                              1880      Female   df       NaN  I agree   \n18                                 2         NaN   df       NaN  I agree   \n19  5b61a6bcd3d466e81a660e56ec69b0cb        male   df       NaN  I agree   \n20  bdca1e8ea0510fe813a532bbc79126d6      female   df       NaN  I agree   \n21                           3520079      female   df       NaN  I agree   \n22                           3986168      female   df       NaN  I agree   \n23                              4601  Non-binary   df       NaN  I agree   \n24                             30169        Male   df       NaN  I agree   \n25                             36341      Female   df       NaN  I agree   \n26                                 3         NaN   df       NaN  I agree   \n27  af537834b51d385798642c0f4daf22d9      female   df       NaN  I agree   \n28  39c279b6a6ec993e29b40890f127d5e9      female   df       NaN  I agree   \n29                             34448  Non-binary   df       NaN  I agree   \n30  b55cb981ce35e677b6ee9581d70a74e1        male   df       NaN  I agree   \n31  b7570d29fbccc7393e4f35c44dd5a497        male   df       NaN  I agree   \n32  fbd5a32e8be4d4a9e5ad92550b2812b9      female   df       NaN  I agree   \n33                             11925      Female   df       NaN  I agree   \n34                           3528970      female   df       NaN  I agree   \n35  e66593e03bdc06905c77f158cac5ecc8        male   df       NaN  I agree   \n36                             14215        Male   df       NaN  I agree   \n37                             19457        Male   df       NaN  I agree   \n38                             31609        Male   df       NaN  I agree   \n39  93461f768317abcbba6572eeeabeddac      female   df       NaN  I agree   \n40                           3314062      female   df       NaN  I agree   \n41                             30672      Female   df       NaN  I agree   \n42                           4217058        male   df       NaN  I agree   \n\n    style_score  confidence_score  \n0             2                 2  \n1             4                 2  \n2             2                 2  \n3             4                 3  \n4             2                 2  \n5             4                 3  \n6             2                 2  \n7             5                 3  \n8             2                 2  \n9             2                 2  \n10            4                 3  \n11            5                 4  \n12            3                 4  \n13            2                 3  \n14            3                 2  \n15            4                 4  \n16            3                 2  \n17            4                 3  \n18            3                 3  \n19            2                 3  \n20            4                 3  \n21            4                 3  \n22            2                 3  \n23            5                 1  \n24            3                 2  \n25            2                 3  \n26            1                 2  \n27            3                 2  \n28            4                 2  \n29            5                 3  \n30            2                 2  \n31            1                 3  \n32            4                 3  \n33            2                 4  \n34            2                 2  \n35            4                 4  \n36            5                 3  \n37            3                 4  \n38            2                 3  \n39            4                 4  \n40            3                 4  \n41            3                 3  \n42            3                 4  ",
      "text/html": "<div>\n<style scoped>\n    .dataframe tbody tr th:only-of-type {\n        vertical-align: middle;\n    }\n\n    .dataframe tbody tr th {\n        vertical-align: top;\n    }\n\n    .dataframe thead th {\n        text-align: right;\n    }\n</style>\n<table border=\"1\" class=\"dataframe\">\n  <thead>\n    <tr style=\"text-align: right;\">\n      <th></th>\n      <th>confidence</th>\n      <th>comments</th>\n      <th>style</th>\n      <th>texts</th>\n      <th>text_id</th>\n      <th>label</th>\n      <th>p_id</th>\n      <th>feedback</th>\n      <th>consent</th>\n      <th>style_score</th>\n      <th>confidence_score</th>\n    </tr>\n  </thead>\n  <tbody>\n    <tr>\n      <th>0</th>\n      <td>2: Somewhat Confident. You made a judgment but...</td>\n      <td>NaN</td>\n      <td>2: Somewhat Feminine</td>\n      <td>I prepared my rocket for the competition. I se...</td>\n      <td>17681</td>\n      <td>Female</td>\n      <td>df</td>\n      <td>NaN</td>\n      <td>I agree</td>\n      <td>2</td>\n      <td>2</td>\n    </tr>\n    <tr>\n      <th>1</th>\n      <td>2: Somewhat Confident. You made a judgment but...</td>\n      <td>NaN</td>\n      <td>4: Somewhat Masculine</td>\n      <td>Today it was finally Easter at our church. The...</td>\n      <td>13578</td>\n      <td>Male</td>\n      <td>df</td>\n      <td>NaN</td>\n      <td>I agree</td>\n      <td>4</td>\n      <td>2</td>\n    </tr>\n    <tr>\n      <th>2</th>\n      <td>2: Somewhat Confident. You made a judgment but...</td>\n      <td>NaN</td>\n      <td>2: Somewhat Feminine</td>\n      <td>As I enter my third year teaching at Independe...</td>\n      <td>3865293</td>\n      <td>female</td>\n      <td>df</td>\n      <td>NaN</td>\n      <td>I agree</td>\n      <td>2</td>\n      <td>2</td>\n    </tr>\n    <tr>\n      <th>3</th>\n      <td>3: Moderately Confident. You felt reasonably s...</td>\n      <td>NaN</td>\n      <td>4: Somewhat Masculine</td>\n      <td>There is a sign for the Sagamore. Tiffany is a...</td>\n      <td>9216</td>\n      <td>Male</td>\n      <td>df</td>\n      <td>NaN</td>\n      <td>I agree</td>\n      <td>4</td>\n      <td>3</td>\n    </tr>\n    <tr>\n      <th>4</th>\n      <td>2: Somewhat Confident. You made a judgment but...</td>\n      <td>NaN</td>\n      <td>2: Somewhat Feminine</td>\n      <td>The crowd gathered and planned to see the conc...</td>\n      <td>1969</td>\n      <td>Male</td>\n      <td>df</td>\n      <td>NaN</td>\n      <td>I agree</td>\n      <td>2</td>\n      <td>2</td>\n    </tr>\n    <tr>\n      <th>5</th>\n      <td>3: Moderately Confident. You felt reasonably s...</td>\n      <td>NaN</td>\n      <td>4: Somewhat Masculine</td>\n      <td>busy week, sport, music the usual stuff. could...</td>\n      <td>3621783</td>\n      <td>male</td>\n      <td>df</td>\n      <td>NaN</td>\n      <td>I agree</td>\n      <td>4</td>\n      <td>3</td>\n    </tr>\n    <tr>\n      <th>6</th>\n      <td>2: Somewhat Confident. You made a judgment but...</td>\n      <td>NaN</td>\n      <td>2: Somewhat Feminine</td>\n      <td>Texas Hunting Land is a perfect venue for your...</td>\n      <td>d328a3c669a5b60298396a53ec2b9e39</td>\n      <td>male</td>\n      <td>df</td>\n      <td>NaN</td>\n      <td>I agree</td>\n      <td>2</td>\n      <td>2</td>\n    </tr>\n    <tr>\n      <th>7</th>\n      <td>3: Moderately Confident. You felt reasonably s...</td>\n      <td>NaN</td>\n      <td>5: Very Masculine</td>\n      <td>ha!z.. todae waste lots of time in class cuz l...</td>\n      <td>3990524</td>\n      <td>male</td>\n      <td>df</td>\n      <td>NaN</td>\n      <td>I agree</td>\n      <td>5</td>\n      <td>3</td>\n    </tr>\n    <tr>\n      <th>8</th>\n      <td>2: Somewhat Confident. You made a judgment but...</td>\n      <td>NaN</td>\n      <td>2: Somewhat Feminine</td>\n      <td>We have waited so long for this moment sometim...</td>\n      <td>28956</td>\n      <td>Non-binary</td>\n      <td>df</td>\n      <td>NaN</td>\n      <td>I agree</td>\n      <td>2</td>\n      <td>2</td>\n    </tr>\n    <tr>\n      <th>9</th>\n      <td>2: Somewhat Confident. You made a judgment but...</td>\n      <td>NaN</td>\n      <td>2: Somewhat Feminine</td>\n      <td>This is an attention check. Please select 'Som...</td>\n      <td>1</td>\n      <td>NaN</td>\n      <td>df</td>\n      <td>NaN</td>\n      <td>I agree</td>\n      <td>2</td>\n      <td>2</td>\n    </tr>\n    <tr>\n      <th>10</th>\n      <td>3: Moderately Confident. You felt reasonably s...</td>\n      <td>NaN</td>\n      <td>4: Somewhat Masculine</td>\n      <td>The foreigners took a tour of the city. They w...</td>\n      <td>9084</td>\n      <td>Non-binary</td>\n      <td>df</td>\n      <td>NaN</td>\n      <td>I agree</td>\n      <td>4</td>\n      <td>3</td>\n    </tr>\n    <tr>\n      <th>11</th>\n      <td>4: Very Confident. You were very certain about...</td>\n      <td>NaN</td>\n      <td>5: Very Masculine</td>\n      <td>Artists set up their float for a parade. Peopl...</td>\n      <td>10849</td>\n      <td>Female</td>\n      <td>df</td>\n      <td>NaN</td>\n      <td>I agree</td>\n      <td>5</td>\n      <td>4</td>\n    </tr>\n    <tr>\n      <th>12</th>\n      <td>4: Very Confident. You were very certain about...</td>\n      <td>NaN</td>\n      <td>3: Neutral</td>\n      <td>The   software program can be quite difficult ...</td>\n      <td>dd7ae05ce600dc92cd6ecb4dc5513280</td>\n      <td>female</td>\n      <td>df</td>\n      <td>NaN</td>\n      <td>I agree</td>\n      <td>3</td>\n      <td>4</td>\n    </tr>\n    <tr>\n      <th>13</th>\n      <td>3: Moderately Confident. You felt reasonably s...</td>\n      <td>NaN</td>\n      <td>2: Somewhat Feminine</td>\n      <td>However WordPress and Joomla seem to have an e...</td>\n      <td>75eaa4a58551cf942052ad916998b143</td>\n      <td>female</td>\n      <td>df</td>\n      <td>NaN</td>\n      <td>I agree</td>\n      <td>2</td>\n      <td>3</td>\n    </tr>\n    <tr>\n      <th>14</th>\n      <td>2: Somewhat Confident. You made a judgment but...</td>\n      <td>NaN</td>\n      <td>3: Neutral</td>\n      <td>I'm a student of architecture on my senior tri...</td>\n      <td>34463</td>\n      <td>Male</td>\n      <td>df</td>\n      <td>NaN</td>\n      <td>I agree</td>\n      <td>3</td>\n      <td>2</td>\n    </tr>\n    <tr>\n      <th>15</th>\n      <td>4: Very Confident. You were very certain about...</td>\n      <td>NaN</td>\n      <td>4: Somewhat Masculine</td>\n      <td>Today we checked out this nice humble home. Th...</td>\n      <td>9317</td>\n      <td>Male</td>\n      <td>df</td>\n      <td>NaN</td>\n      <td>I agree</td>\n      <td>4</td>\n      <td>4</td>\n    </tr>\n    <tr>\n      <th>16</th>\n      <td>2: Somewhat Confident. You made a judgment but...</td>\n      <td>NaN</td>\n      <td>3: Neutral</td>\n      <td>When the customers clicked the ad, he or she w...</td>\n      <td>e684ff165d6eb4ec1b922b4c834be23e</td>\n      <td>female</td>\n      <td>df</td>\n      <td>NaN</td>\n      <td>I agree</td>\n      <td>3</td>\n      <td>2</td>\n    </tr>\n    <tr>\n      <th>17</th>\n      <td>3: Moderately Confident. You felt reasonably s...</td>\n      <td>NaN</td>\n      <td>4: Somewhat Masculine</td>\n      <td>I went on vacation with my family in a trashy ...</td>\n      <td>1880</td>\n      <td>Female</td>\n      <td>df</td>\n      <td>NaN</td>\n      <td>I agree</td>\n      <td>4</td>\n      <td>3</td>\n    </tr>\n    <tr>\n      <th>18</th>\n      <td>3: Moderately Confident. You felt reasonably s...</td>\n      <td>NaN</td>\n      <td>3: Neutral</td>\n      <td>This is an attention check. Please select 'Neu...</td>\n      <td>2</td>\n      <td>NaN</td>\n      <td>df</td>\n      <td>NaN</td>\n      <td>I agree</td>\n      <td>3</td>\n      <td>3</td>\n    </tr>\n    <tr>\n      <th>19</th>\n      <td>3: Moderately Confident. You felt reasonably s...</td>\n      <td>NaN</td>\n      <td>2: Somewhat Feminine</td>\n      <td>First of all you had much better make confiden...</td>\n      <td>5b61a6bcd3d466e81a660e56ec69b0cb</td>\n      <td>male</td>\n      <td>df</td>\n      <td>NaN</td>\n      <td>I agree</td>\n      <td>2</td>\n      <td>3</td>\n    </tr>\n    <tr>\n      <th>20</th>\n      <td>3: Moderately Confident. You felt reasonably s...</td>\n      <td>NaN</td>\n      <td>4: Somewhat Masculine</td>\n      <td>hey Ladies out there i joined this site coz of...</td>\n      <td>bdca1e8ea0510fe813a532bbc79126d6</td>\n      <td>female</td>\n      <td>df</td>\n      <td>NaN</td>\n      <td>I agree</td>\n      <td>4</td>\n      <td>3</td>\n    </tr>\n    <tr>\n      <th>21</th>\n      <td>3: Moderately Confident. You felt reasonably s...</td>\n      <td>NaN</td>\n      <td>4: Somewhat Masculine</td>\n      <td>You won't believe it, I just wasted 5 hours si...</td>\n      <td>3520079</td>\n      <td>female</td>\n      <td>df</td>\n      <td>NaN</td>\n      <td>I agree</td>\n      <td>4</td>\n      <td>3</td>\n    </tr>\n    <tr>\n      <th>22</th>\n      <td>3: Moderately Confident. You felt reasonably s...</td>\n      <td>NaN</td>\n      <td>2: Somewhat Feminine</td>\n      <td>Last week I was Up North. We have a simmer hou...</td>\n      <td>3986168</td>\n      <td>female</td>\n      <td>df</td>\n      <td>NaN</td>\n      <td>I agree</td>\n      <td>2</td>\n      <td>3</td>\n    </tr>\n    <tr>\n      <th>23</th>\n      <td>1: Not Confident. You were unsure or found the...</td>\n      <td>NaN</td>\n      <td>5: Very Masculine</td>\n      <td>I went for a quick walk around town, starting ...</td>\n      <td>4601</td>\n      <td>Non-binary</td>\n      <td>df</td>\n      <td>NaN</td>\n      <td>I agree</td>\n      <td>5</td>\n      <td>1</td>\n    </tr>\n    <tr>\n      <th>24</th>\n      <td>2: Somewhat Confident. You made a judgment but...</td>\n      <td>NaN</td>\n      <td>3: Neutral</td>\n      <td>Today I got to do a beautiful wedding day shoo...</td>\n      <td>30169</td>\n      <td>Male</td>\n      <td>df</td>\n      <td>NaN</td>\n      <td>I agree</td>\n      <td>3</td>\n      <td>2</td>\n    </tr>\n    <tr>\n      <th>25</th>\n      <td>3: Moderately Confident. You felt reasonably s...</td>\n      <td>NaN</td>\n      <td>2: Somewhat Feminine</td>\n      <td>It was a special day for the marching band at ...</td>\n      <td>36341</td>\n      <td>Female</td>\n      <td>df</td>\n      <td>NaN</td>\n      <td>I agree</td>\n      <td>2</td>\n      <td>3</td>\n    </tr>\n    <tr>\n      <th>26</th>\n      <td>2: Somewhat Confident. You made a judgment but...</td>\n      <td>NaN</td>\n      <td>1: Very Feminine</td>\n      <td>This is an attention check. Please select 'Ver...</td>\n      <td>3</td>\n      <td>NaN</td>\n      <td>df</td>\n      <td>NaN</td>\n      <td>I agree</td>\n      <td>1</td>\n      <td>2</td>\n    </tr>\n    <tr>\n      <th>27</th>\n      <td>2: Somewhat Confident. You made a judgment but...</td>\n      <td>NaN</td>\n      <td>3: Neutral</td>\n      <td>God what is going on this world! Isaiah 4:1 sa...</td>\n      <td>af537834b51d385798642c0f4daf22d9</td>\n      <td>female</td>\n      <td>df</td>\n      <td>NaN</td>\n      <td>I agree</td>\n      <td>3</td>\n      <td>2</td>\n    </tr>\n    <tr>\n      <th>28</th>\n      <td>2: Somewhat Confident. You made a judgment but...</td>\n      <td>NaN</td>\n      <td>4: Somewhat Masculine</td>\n      <td>There are so many different ways that you can ...</td>\n      <td>39c279b6a6ec993e29b40890f127d5e9</td>\n      <td>female</td>\n      <td>df</td>\n      <td>NaN</td>\n      <td>I agree</td>\n      <td>4</td>\n      <td>2</td>\n    </tr>\n    <tr>\n      <th>29</th>\n      <td>3: Moderately Confident. You felt reasonably s...</td>\n      <td>NaN</td>\n      <td>5: Very Masculine</td>\n      <td>On the tour, we first stopped in the city squa...</td>\n      <td>34448</td>\n      <td>Non-binary</td>\n      <td>df</td>\n      <td>NaN</td>\n      <td>I agree</td>\n      <td>5</td>\n      <td>3</td>\n    </tr>\n    <tr>\n      <th>30</th>\n      <td>2: Somewhat Confident. You made a judgment but...</td>\n      <td>NaN</td>\n      <td>2: Somewhat Feminine</td>\n      <td>If you are among many individuals who are inte...</td>\n      <td>b55cb981ce35e677b6ee9581d70a74e1</td>\n      <td>male</td>\n      <td>df</td>\n      <td>NaN</td>\n      <td>I agree</td>\n      <td>2</td>\n      <td>2</td>\n    </tr>\n    <tr>\n      <th>31</th>\n      <td>3: Moderately Confident. You felt reasonably s...</td>\n      <td>NaN</td>\n      <td>1: Very Feminine</td>\n      <td>Check the brakes, the wipers and the heater ca...</td>\n      <td>b7570d29fbccc7393e4f35c44dd5a497</td>\n      <td>male</td>\n      <td>df</td>\n      <td>NaN</td>\n      <td>I agree</td>\n      <td>1</td>\n      <td>3</td>\n    </tr>\n    <tr>\n      <th>32</th>\n      <td>3: Moderately Confident. You felt reasonably s...</td>\n      <td>NaN</td>\n      <td>4: Somewhat Masculine</td>\n      <td>Getting transportation is a trouble. If you do...</td>\n      <td>fbd5a32e8be4d4a9e5ad92550b2812b9</td>\n      <td>female</td>\n      <td>df</td>\n      <td>NaN</td>\n      <td>I agree</td>\n      <td>4</td>\n      <td>3</td>\n    </tr>\n    <tr>\n      <th>33</th>\n      <td>4: Very Confident. You were very certain about...</td>\n      <td>NaN</td>\n      <td>2: Somewhat Feminine</td>\n      <td>The stage is being set The singers have come o...</td>\n      <td>11925</td>\n      <td>Female</td>\n      <td>df</td>\n      <td>NaN</td>\n      <td>I agree</td>\n      <td>2</td>\n      <td>4</td>\n    </tr>\n    <tr>\n      <th>34</th>\n      <td>2: Somewhat Confident. You made a judgment but...</td>\n      <td>NaN</td>\n      <td>2: Somewhat Feminine</td>\n      <td>Beautiful Day in Connecticut, sunny nice breez...</td>\n      <td>3528970</td>\n      <td>female</td>\n      <td>df</td>\n      <td>NaN</td>\n      <td>I agree</td>\n      <td>2</td>\n      <td>2</td>\n    </tr>\n    <tr>\n      <th>35</th>\n      <td>4: Very Confident. You were very certain about...</td>\n      <td>NaN</td>\n      <td>4: Somewhat Masculine</td>\n      <td>Nevertheless, you can avoid these kinds of sit...</td>\n      <td>e66593e03bdc06905c77f158cac5ecc8</td>\n      <td>male</td>\n      <td>df</td>\n      <td>NaN</td>\n      <td>I agree</td>\n      <td>4</td>\n      <td>4</td>\n    </tr>\n    <tr>\n      <th>36</th>\n      <td>3: Moderately Confident. You felt reasonably s...</td>\n      <td>NaN</td>\n      <td>5: Very Masculine</td>\n      <td>My Gallery Opening! Here is my first piece - m...</td>\n      <td>14215</td>\n      <td>Male</td>\n      <td>df</td>\n      <td>NaN</td>\n      <td>I agree</td>\n      <td>5</td>\n      <td>3</td>\n    </tr>\n    <tr>\n      <th>37</th>\n      <td>4: Very Confident. You were very certain about...</td>\n      <td>NaN</td>\n      <td>3: Neutral</td>\n      <td>Taking a stroll around the neighborhood to tak...</td>\n      <td>19457</td>\n      <td>Male</td>\n      <td>df</td>\n      <td>NaN</td>\n      <td>I agree</td>\n      <td>3</td>\n      <td>4</td>\n    </tr>\n    <tr>\n      <th>38</th>\n      <td>3: Moderately Confident. You felt reasonably s...</td>\n      <td>NaN</td>\n      <td>2: Somewhat Feminine</td>\n      <td>I took a trip upstate last fall near the river...</td>\n      <td>31609</td>\n      <td>Male</td>\n      <td>df</td>\n      <td>NaN</td>\n      <td>I agree</td>\n      <td>2</td>\n      <td>3</td>\n    </tr>\n    <tr>\n      <th>39</th>\n      <td>4: Very Confident. You were very certain about...</td>\n      <td>NaN</td>\n      <td>4: Somewhat Masculine</td>\n      <td>Effectively designed newsletters can better in...</td>\n      <td>93461f768317abcbba6572eeeabeddac</td>\n      <td>female</td>\n      <td>df</td>\n      <td>NaN</td>\n      <td>I agree</td>\n      <td>4</td>\n      <td>4</td>\n    </tr>\n    <tr>\n      <th>40</th>\n      <td>4: Very Confident. You were very certain about...</td>\n      <td>NaN</td>\n      <td>3: Neutral</td>\n      <td>After a very short discussion, Mark and I deci...</td>\n      <td>3314062</td>\n      <td>female</td>\n      <td>df</td>\n      <td>NaN</td>\n      <td>I agree</td>\n      <td>3</td>\n      <td>4</td>\n    </tr>\n    <tr>\n      <th>41</th>\n      <td>3: Moderately Confident. You felt reasonably s...</td>\n      <td>NaN</td>\n      <td>3: Neutral</td>\n      <td>I met this female ski instructor before skiing...</td>\n      <td>30672</td>\n      <td>Female</td>\n      <td>df</td>\n      <td>NaN</td>\n      <td>I agree</td>\n      <td>3</td>\n      <td>3</td>\n    </tr>\n    <tr>\n      <th>42</th>\n      <td>4: Very Confident. You were very certain about...</td>\n      <td>NaN</td>\n      <td>3: Neutral</td>\n      <td>Last night I jammed with Brian and Randy. (Thi...</td>\n      <td>4217058</td>\n      <td>male</td>\n      <td>df</td>\n      <td>NaN</td>\n      <td>I agree</td>\n      <td>3</td>\n      <td>4</td>\n    </tr>\n  </tbody>\n</table>\n</div>"
     },
     "execution_count": 11,
     "metadata": {},
     "output_type": "execute_result"
    }
   ],
   "source": [
    "data"
   ],
   "metadata": {
    "collapsed": false,
    "ExecuteTime": {
     "end_time": "2025-02-10T18:03:14.331942Z",
     "start_time": "2025-02-10T18:03:14.320664Z"
    }
   }
  },
  {
   "cell_type": "code",
   "execution_count": 27,
   "outputs": [],
   "source": [
    "user_id = 1"
   ],
   "metadata": {
    "collapsed": false,
    "ExecuteTime": {
     "end_time": "2025-01-28T02:22:43.470565Z",
     "start_time": "2025-01-28T02:22:43.465834Z"
    }
   }
  },
  {
   "cell_type": "code",
   "execution_count": 28,
   "outputs": [
    {
     "data": {
      "text/plain": "1"
     },
     "execution_count": 28,
     "metadata": {},
     "output_type": "execute_result"
    }
   ],
   "source": [
    "user_id"
   ],
   "metadata": {
    "collapsed": false,
    "ExecuteTime": {
     "end_time": "2025-01-28T02:22:43.947041Z",
     "start_time": "2025-01-28T02:22:43.942201Z"
    }
   }
  },
  {
   "cell_type": "code",
   "execution_count": null,
   "outputs": [],
   "source": [],
   "metadata": {
    "collapsed": false
   }
  },
  {
   "cell_type": "code",
   "execution_count": 1,
   "outputs": [],
   "source": [
    "import re\n",
    "\n",
    "style_options = [\n",
    "    \"1: Very Feminine\",\n",
    "    \"2: Somewhat Feminine\",\n",
    "    \"3: Neutral\",\n",
    "    \"4: Somewhat Masculine\",\n",
    "    \"5: Very Masculine\"\n",
    "]"
   ],
   "metadata": {
    "collapsed": false,
    "ExecuteTime": {
     "end_time": "2025-02-10T14:19:38.924287Z",
     "start_time": "2025-02-10T14:19:38.920326Z"
    }
   }
  },
  {
   "cell_type": "code",
   "execution_count": 2,
   "outputs": [
    {
     "name": "stdout",
     "output_type": "stream",
     "text": [
      "['1', '2', '3', '4', '5']\n"
     ]
    }
   ],
   "source": [
    "numbers = [option.split(\":\")[0] for option in style_options]\n",
    "print(numbers)  # Output: ['1', '2', '3', '4', '5']\n"
   ],
   "metadata": {
    "collapsed": false,
    "ExecuteTime": {
     "end_time": "2025-02-10T14:19:43.138264Z",
     "start_time": "2025-02-10T14:19:43.122099Z"
    }
   }
  },
  {
   "cell_type": "code",
   "execution_count": null,
   "outputs": [],
   "source": [],
   "metadata": {
    "collapsed": false
   }
  }
 ],
 "metadata": {
  "kernelspec": {
   "display_name": "Python 3",
   "language": "python",
   "name": "python3"
  },
  "language_info": {
   "codemirror_mode": {
    "name": "ipython",
    "version": 2
   },
   "file_extension": ".py",
   "mimetype": "text/x-python",
   "name": "python",
   "nbconvert_exporter": "python",
   "pygments_lexer": "ipython2",
   "version": "2.7.6"
  }
 },
 "nbformat": 4,
 "nbformat_minor": 0
}
